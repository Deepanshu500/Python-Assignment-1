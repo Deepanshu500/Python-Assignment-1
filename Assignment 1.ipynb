{
 "cells": [
  {
   "cell_type": "code",
   "execution_count": 1,
   "id": "ba7ce111-48f7-42f6-bdc1-49418b63ec2f",
   "metadata": {},
   "outputs": [],
   "source": [
    "#Question 1"
   ]
  },
  {
   "cell_type": "code",
   "execution_count": 2,
   "id": "d552879d-6c5d-4365-a7c0-b1c3ba64256b",
   "metadata": {},
   "outputs": [],
   "source": [
    "a = \"My name is Deepanshu Singhal\", [1,2,3,4], 369.67, (5,6,7,8)\n"
   ]
  },
  {
   "cell_type": "code",
   "execution_count": 4,
   "id": "67471268-b8be-4edf-b15e-df49c9333daa",
   "metadata": {},
   "outputs": [],
   "source": [
    "#Question 2"
   ]
  },
  {
   "cell_type": "code",
   "execution_count": 5,
   "id": "14675c9c-0bcd-45a7-967b-54a659d54cd5",
   "metadata": {},
   "outputs": [],
   "source": [
    "var1 = ''"
   ]
  },
  {
   "cell_type": "code",
   "execution_count": 6,
   "id": "93a41c1f-6b3f-46f6-b0ed-f9594b61ac47",
   "metadata": {},
   "outputs": [
    {
     "data": {
      "text/plain": [
       "str"
      ]
     },
     "execution_count": 6,
     "metadata": {},
     "output_type": "execute_result"
    }
   ],
   "source": [
    "type(var1)"
   ]
  },
  {
   "cell_type": "code",
   "execution_count": 10,
   "id": "8a737b5e-caaf-488a-9149-46f349788bf6",
   "metadata": {},
   "outputs": [],
   "source": [
    "var2 = '[DS , ML , Python]'"
   ]
  },
  {
   "cell_type": "code",
   "execution_count": 11,
   "id": "30d6dbe5-54e9-486f-abfe-b8983b335dbe",
   "metadata": {},
   "outputs": [
    {
     "data": {
      "text/plain": [
       "str"
      ]
     },
     "execution_count": 11,
     "metadata": {},
     "output_type": "execute_result"
    }
   ],
   "source": [
    "type(var2)"
   ]
  },
  {
   "cell_type": "code",
   "execution_count": 15,
   "id": "8809072e-895f-4d1f-a8c4-cf03eb6afd3e",
   "metadata": {},
   "outputs": [],
   "source": [
    "var3 = ['DS' , 'ML' , 'Python']"
   ]
  },
  {
   "cell_type": "code",
   "execution_count": 16,
   "id": "0192849d-5dcc-4f8b-bfb7-0bf86a07bdc1",
   "metadata": {},
   "outputs": [
    {
     "data": {
      "text/plain": [
       "list"
      ]
     },
     "execution_count": 16,
     "metadata": {},
     "output_type": "execute_result"
    }
   ],
   "source": [
    "type(var3)"
   ]
  },
  {
   "cell_type": "code",
   "execution_count": 17,
   "id": "25cbf240-6ec4-4fb1-b655-fb78caed402f",
   "metadata": {},
   "outputs": [],
   "source": [
    "var4 = 1"
   ]
  },
  {
   "cell_type": "code",
   "execution_count": 18,
   "id": "497c2cf3-7f46-4909-8f93-c5dc7ddb75fd",
   "metadata": {},
   "outputs": [
    {
     "data": {
      "text/plain": [
       "int"
      ]
     },
     "execution_count": 18,
     "metadata": {},
     "output_type": "execute_result"
    }
   ],
   "source": [
    "type(var4)"
   ]
  },
  {
   "cell_type": "code",
   "execution_count": 19,
   "id": "784fcd08-904d-4708-83ca-83fe18481f54",
   "metadata": {},
   "outputs": [],
   "source": [
    "#Question 3"
   ]
  },
  {
   "cell_type": "code",
   "execution_count": 20,
   "id": "589689fd-a504-467c-a8ee-72c0b6e7ad1a",
   "metadata": {},
   "outputs": [
    {
     "data": {
      "text/plain": [
       "4.0"
      ]
     },
     "execution_count": 20,
     "metadata": {},
     "output_type": "execute_result"
    }
   ],
   "source": [
    "12/3    #division operator"
   ]
  },
  {
   "cell_type": "code",
   "execution_count": 23,
   "id": "94518886-29d4-4ac8-87ed-0af795a35b41",
   "metadata": {},
   "outputs": [
    {
     "data": {
      "text/plain": [
       "2"
      ]
     },
     "execution_count": 23,
     "metadata": {},
     "output_type": "execute_result"
    }
   ],
   "source": [
    "12%5    #Modulo operator (shows remainder)"
   ]
  },
  {
   "cell_type": "code",
   "execution_count": 24,
   "id": "4de91cce-4d37-42a3-9da9-0fa4c7ec9686",
   "metadata": {},
   "outputs": [
    {
     "data": {
      "text/plain": [
       "2"
      ]
     },
     "execution_count": 24,
     "metadata": {},
     "output_type": "execute_result"
    }
   ],
   "source": [
    "12//5   #Floor division"
   ]
  },
  {
   "cell_type": "code",
   "execution_count": 26,
   "id": "80ea1ffd-700f-478d-85ee-0975be099c26",
   "metadata": {},
   "outputs": [
    {
     "data": {
      "text/plain": [
       "27"
      ]
     },
     "execution_count": 26,
     "metadata": {},
     "output_type": "execute_result"
    }
   ],
   "source": [
    "3**3    #Power operator"
   ]
  },
  {
   "cell_type": "code",
   "execution_count": 27,
   "id": "2a15a47b-5e94-4c66-8313-577ef6cdb3e9",
   "metadata": {},
   "outputs": [],
   "source": [
    "#Question 4"
   ]
  },
  {
   "cell_type": "code",
   "execution_count": 28,
   "id": "cbcd7a2e-810e-41a4-927f-7cdce7b24210",
   "metadata": {},
   "outputs": [],
   "source": [
    "L1 = [1,2,3,4,44.5,['a', 'b', 'deep'], 100.5, (12,'abhi',8), 10,50]"
   ]
  },
  {
   "cell_type": "code",
   "execution_count": 37,
   "id": "8a4cbf61-3dff-43ff-94f4-9fe8dfc4e0e5",
   "metadata": {},
   "outputs": [
    {
     "name": "stdout",
     "output_type": "stream",
     "text": [
      "1\n",
      "<class 'int'>\n",
      "2\n",
      "<class 'int'>\n",
      "3\n",
      "<class 'int'>\n",
      "4\n",
      "<class 'int'>\n",
      "44.5\n",
      "<class 'float'>\n",
      "['a', 'b', 'deep']\n",
      "<class 'list'>\n",
      "100.5\n",
      "<class 'float'>\n",
      "(12, 'abhi', 8)\n",
      "<class 'tuple'>\n",
      "10\n",
      "<class 'int'>\n",
      "50\n",
      "<class 'int'>\n"
     ]
    }
   ],
   "source": [
    "for i in L1:\n",
    "    print(i)\n",
    "    print(type(i))"
   ]
  },
  {
   "cell_type": "code",
   "execution_count": 38,
   "id": "c4fb4771-5e6e-497d-81c6-4f1eb6f5ac58",
   "metadata": {},
   "outputs": [],
   "source": [
    "#Question 5"
   ]
  },
  {
   "cell_type": "code",
   "execution_count": 44,
   "id": "163a8fc5-ede6-469c-b90d-9d26d70c512a",
   "metadata": {},
   "outputs": [
    {
     "name": "stdin",
     "output_type": "stream",
     "text": [
      "Enter the number A 10\n",
      "Enter the number B 3\n"
     ]
    },
    {
     "name": "stdout",
     "output_type": "stream",
     "text": [
      "Number A is not purely divisible by Number B\n"
     ]
    }
   ],
   "source": [
    "num_A = int(input(\"Enter the number A\"))\n",
    "num_B = int(input(\"Enter the number B\"))\n",
    "result = num_A%num_B\n",
    "if result == 0:\n",
    "    print(\"Number A is purely divisible by Number B\")\n",
    "else:\n",
    "    print(\"Number A is not purely divisible by Number B\")"
   ]
  },
  {
   "cell_type": "code",
   "execution_count": 45,
   "id": "aa4cd5f2-8630-438a-83b0-c571126476d0",
   "metadata": {},
   "outputs": [],
   "source": [
    "#Question 6"
   ]
  },
  {
   "cell_type": "code",
   "execution_count": 46,
   "id": "66309a01-c682-483c-87c9-a520791ab9cc",
   "metadata": {},
   "outputs": [],
   "source": [
    "l=[1,2,3,4,5,6,7,8,9,10,11,12,13,14,15,16,17,18,19,20,21,22,23,24,25]"
   ]
  },
  {
   "cell_type": "code",
   "execution_count": 54,
   "id": "1fd92659-588c-44cc-bde3-9a4b0bb1c77f",
   "metadata": {},
   "outputs": [
    {
     "name": "stdout",
     "output_type": "stream",
     "text": [
      "1 is not divisible by 3.\n",
      "2 is not divisible by 3.\n",
      "3 is divisible by 3.\n",
      "4 is not divisible by 3.\n",
      "5 is not divisible by 3.\n",
      "6 is divisible by 3.\n",
      "7 is not divisible by 3.\n",
      "8 is not divisible by 3.\n",
      "9 is divisible by 3.\n",
      "10 is not divisible by 3.\n",
      "11 is not divisible by 3.\n",
      "12 is divisible by 3.\n",
      "13 is not divisible by 3.\n",
      "14 is not divisible by 3.\n",
      "15 is divisible by 3.\n",
      "16 is not divisible by 3.\n",
      "17 is not divisible by 3.\n",
      "18 is divisible by 3.\n",
      "19 is not divisible by 3.\n",
      "20 is not divisible by 3.\n",
      "21 is divisible by 3.\n",
      "22 is not divisible by 3.\n",
      "23 is not divisible by 3.\n",
      "24 is divisible by 3.\n",
      "25 is not divisible by 3.\n"
     ]
    }
   ],
   "source": [
    "for i in l:\n",
    "    if i % 3 == 0:\n",
    "        print(f\"{i} is divisible by 3.\")\n",
    "    else:\n",
    "        print (f\"{i} is not divisible by 3.\")"
   ]
  },
  {
   "cell_type": "code",
   "execution_count": 55,
   "id": "aaa7c374-cb30-4061-aace-5349d7c4cf51",
   "metadata": {},
   "outputs": [],
   "source": [
    "#Question 7"
   ]
  },
  {
   "cell_type": "code",
   "execution_count": 56,
   "id": "d4dd7fdc-10d6-4154-b687-3212df163aa6",
   "metadata": {},
   "outputs": [
    {
     "data": {
      "text/plain": [
       "'Mutable data types are those data types which can be altered or we can mutate them with different operations and functions.\\nTheir value can be changed after creation. (Ex: List, Dictionaires, sets)\\nImmutable data type is a data type which can not be altered after creation (Ex: String, tuples)'"
      ]
     },
     "execution_count": 56,
     "metadata": {},
     "output_type": "execute_result"
    }
   ],
   "source": [
    "\"\"\"Mutable data types are those data types which can be altered or we can mutate them with different operations and functions.\n",
    "Their value can be changed after creation. (Ex: List, Dictionaires, sets)\n",
    "Immutable data type is a data type which can not be altered after creation (Ex: String, tuples)\"\"\""
   ]
  },
  {
   "cell_type": "code",
   "execution_count": 57,
   "id": "dbc7b263-ddca-4496-98a7-03897200da25",
   "metadata": {},
   "outputs": [],
   "source": [
    "l = [1,2,3,4,5]"
   ]
  },
  {
   "cell_type": "code",
   "execution_count": 58,
   "id": "a8746b14-2fae-4ad1-b7be-4e956e976f60",
   "metadata": {},
   "outputs": [],
   "source": [
    "l[0]=6"
   ]
  },
  {
   "cell_type": "code",
   "execution_count": 59,
   "id": "6a2639e1-8278-437f-b0a3-c2b82955ba17",
   "metadata": {},
   "outputs": [
    {
     "data": {
      "text/plain": [
       "[6, 2, 3, 4, 5]"
      ]
     },
     "execution_count": 59,
     "metadata": {},
     "output_type": "execute_result"
    }
   ],
   "source": [
    "l     #it is mutated"
   ]
  },
  {
   "cell_type": "code",
   "execution_count": 60,
   "id": "441c97ae-2ee1-453c-aaa5-1554f8a23dd4",
   "metadata": {},
   "outputs": [],
   "source": [
    "t=(1,2,3,4,5)"
   ]
  },
  {
   "cell_type": "code",
   "execution_count": 61,
   "id": "d0fa0b05-0bb5-4173-84e3-15a018e3d676",
   "metadata": {},
   "outputs": [
    {
     "ename": "TypeError",
     "evalue": "'tuple' object does not support item assignment",
     "output_type": "error",
     "traceback": [
      "\u001b[0;31m---------------------------------------------------------------------------\u001b[0m",
      "\u001b[0;31mTypeError\u001b[0m                                 Traceback (most recent call last)",
      "Cell \u001b[0;32mIn[61], line 1\u001b[0m\n\u001b[0;32m----> 1\u001b[0m \u001b[43mt\u001b[49m\u001b[43m[\u001b[49m\u001b[38;5;241;43m0\u001b[39;49m\u001b[43m]\u001b[49m \u001b[38;5;241m=\u001b[39m \u001b[38;5;241m6\u001b[39m\n",
      "\u001b[0;31mTypeError\u001b[0m: 'tuple' object does not support item assignment"
     ]
    }
   ],
   "source": [
    "t[0] = 6 #shows error because i"
   ]
  },
  {
   "cell_type": "code",
   "execution_count": null,
   "id": "e703ee0c-9fa3-494e-9264-9c5d70f67a7b",
   "metadata": {},
   "outputs": [],
   "source": []
  }
 ],
 "metadata": {
  "kernelspec": {
   "display_name": "Python 3 (ipykernel)",
   "language": "python",
   "name": "python3"
  },
  "language_info": {
   "codemirror_mode": {
    "name": "ipython",
    "version": 3
   },
   "file_extension": ".py",
   "mimetype": "text/x-python",
   "name": "python",
   "nbconvert_exporter": "python",
   "pygments_lexer": "ipython3",
   "version": "3.10.8"
  }
 },
 "nbformat": 4,
 "nbformat_minor": 5
}
